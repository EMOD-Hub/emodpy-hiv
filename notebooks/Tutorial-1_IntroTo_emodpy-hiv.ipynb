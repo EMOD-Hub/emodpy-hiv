{
 "cells": [
  {
   "cell_type": "markdown",
   "metadata": {
    "vscode": {
     "languageId": "html"
    }
   },
   "source": [
    "# Introduction to emodpy-hiv\n",
    "\n",
    "`emodpy-hiv` is the new way for configuring, running, and analyzing EMOD-HIV simulations. It replaces the previous DtkTools/HIV-Analyzers/run_scenarios.py.\n",
    "\n",
    "One of the goals of this new tool is to simplify the configuration of EMOD by allowing the user to do it via Python instead of JSON. This provides several benefits, including:\n",
    "- Eliminating the need to worry about where parameters belong in deeply nested JSON.\n",
    "- Detecting configuration errors in the Python code before the simulations are created.\n",
    "- Using a 'for-loop' to vary a single value instead of copy and pasting large chunks of JSON.\n",
    "- Leveraging a Python IDE to provide tool-tips or navigate into functions to see the definition of the arguments/parameters.\n",
    "\n",
    "## The packages of emodpy\n",
    "The emodpy “framework” consists of a collection of packages. Each package provides a set of features related to configuring and running EMOD.\n",
    "\n",
    "- **emod-api**\n",
    "   - Defines base-level objects and how the input files of EMOD are written or read.\n",
    "- **emod-hiv** (notice no “py”)\n",
    "   - Contains a schema and Eradication binary.\n",
    "- **emodpy**\n",
    "   - Provides the common set of EMOD configuration features used by disease-specific versions. Users generally do not need to know much about this package.\n",
    "- **emodpy-hiv/malaria**\n",
    "   - These disease-specific packages should be the primary packages users utilize for configuring EMOD for the disease they are working on. These packages are a “subclass” of emodpy.\n",
    "- **idmtools**\n",
    "   - Provides a low-level workflow framework. It offers an abstract way to run EMOD on different platforms and supports a workflow that involves suites, experiments, and simulations. By itself, it is model-agnostic, similar to a model-agnostic DtkTools.\n",
    "\n",
    "## Installation\n",
    "- `mkdir emodpy_demo`\n",
    "- `cd emodpy_demo`\n",
    "- `python –m venv env`\n",
    "- `env/Scripts/activate`\n",
    "- `pip install --index-url https://packages.idmod.org/api/pypi/pypi-production/simple emodpy-hiv`\n",
    "\n",
    "## Manifest\n",
    "Manifest.py is used to store settings that are either common across scripts for running experiments or vary for different users.\n",
    "\n",
    "- The installed package includes a schema and executable.\n",
    "- Manifest allows you to specify other executables and schema.\n",
    "\n"
   ]
  },
  {
   "cell_type": "code",
   "execution_count": null,
   "metadata": {},
   "outputs": [],
   "source": [
    "from IPython.display import Code\n",
    "\n",
    "Code(filename='manifest.py', language='python')"
   ]
  },
  {
   "cell_type": "markdown",
   "metadata": {},
   "source": [
    "## Eradication binary/executable - emod-hiv\n",
    "The actual disease model for EMOD is an executable/binary file typically called Eradication(.exe).  The purpose of emodpy-hiv is to configure and run this binary.  Hence, you need a binary before you can do anything. To make this easier, an emodpy-hiv package requirement is that you also get the emod-hiv binary package (notice no \"py\" after the \"emod\").  This package contains an executable and an associated schema file that you can use with this version of emodpy-hiv.\n",
    "\n",
    "Notice how the `dtk.setup()` method has an argument called `local_dir`.  The value of this argument will be the path/directory where the executable and schema files will get stored. You can configure this in the `manifest.py` file."
   ]
  },
  {
   "cell_type": "code",
   "execution_count": null,
   "metadata": {},
   "outputs": [],
   "source": [
    "import manifest\n",
    "import emod_hiv.bootstrap as dtk\n",
    "\n",
    "dtk.setup(local_dir=manifest.executables_dir)"
   ]
  },
  {
   "cell_type": "markdown",
   "metadata": {},
   "source": [
    "## Platform\n",
    "A Platform defines the type of cluster/computing platform that EMOD will run on. It provides an abstract way to run simulations on different hardware.\n",
    "\n",
    "- `\"SLURM_LOCAL\"`    - This value indicates that you are going to run your simulations on a SLURM-based HPC cluster.\n",
    "- `job_directory`    – The directory where your experiment and simulation directories will be created.\n",
    "- `time`             - The maximum allowed runtime of a simulation (HH:MM:SS).\n",
    "- `partition`        - the set of nodes to submit the simulation jobs to\n",
    "- `mail_user`        - you can get emailed updates when your experiments finish here\n",
    "- `mail_type`        - ... if you set this parameter, ALL means jobs begin, finish, ...\n",
    "- `max_running_jobs` - This and the next param are for idmtools to allow parallel simulations\n",
    "- `array_batch_size` - ???\n",
    "\n",
    "- For more information, see https://docs.idmod.org/projects/idmtools/en/latest/platforms/slurm/index.html"
   ]
  },
  {
   "cell_type": "code",
   "execution_count": null,
   "metadata": {},
   "outputs": [],
   "source": [
    "from idmtools.core.platform_factory import Platform\n",
    "\n",
    "# !!!!!!!!!!!!!!!!!!!!!!!!!!!!!!!!!!!!!!!!!!!\n",
    "# UPDATE - Select the correct Platform below\n",
    "# !!!!!!!!!!!!!!!!!!!!!!!!!!!!!!!!!!!!!!!!!!!\n",
    "platform = Platform( \"Calculon\",\n",
    "                     node_group=\"idm_abcd\",\n",
    "                     priority=\"Normal\" )\n",
    "\n",
    "#platform = Platform( \"SLURM_LOCAL\",\n",
    "#                     job_directory=\"experiments\",\n",
    "#                     time=\"02:00:00\",\n",
    "#                     partition=\"cpu_short\",\n",
    "#                     mail_user=\"XXX@YYY.org\", # !!!! UPDATE !!!!\n",
    "#                     mail_type=\"ALL\",\n",
    "#                     max_running_jobs=1000000,\n",
    "#                     array_batch_size=1000000 )\n"
   ]
  },
  {
   "cell_type": "markdown",
   "metadata": {},
   "source": [
    "## EMODHIVTask\n",
    "Configures the files for each simulation in an experiment. It is found in the `emodpy-hiv` package. `EMODHIVTask` is specifically designed to work with the emodpy-hiv country models; therefore, do not use `emodpy.EMODTask` directly.\n",
    "\n",
    "- `eradication_path` – The path to the Eradication binary.\n",
    "- `schema_path` – The path to a processed `schema.json` file that comes from the Eradication binary. \n",
    "- `param_custom_cb` – The function used to set the configuration parameters.\n",
    "- `campaign_builder` – The function that will build a campaign file for each simulation.\n",
    "- `demog_builder` – The function that will build a demographics file for each simulation.\n",
    "- `ep4_path` – The path to a directory with EMOD embedded Python scripts\n",
    "\n",
    "For this initial example, we will use the build methods that come with the Zambia country model. Later, we will create our verions of the build methods to change these defaults.\n",
    "\n",
    "`emodpy_hiv.country_model` - This module contains code and data associated with different baseline country models. These models provide you with default build methods that you can use as-is or customize to change the default behavior."
   ]
  },
  {
   "cell_type": "code",
   "execution_count": null,
   "metadata": {},
   "outputs": [],
   "source": [
    "# Will make the warnings off by default in 2.0\n",
    "import emod_api.schema_to_class as s2c\n",
    "s2c.show_warnings = False\n",
    "\n",
    "import emodpy_hiv.emod_task as emod_task\n",
    "import emodpy_hiv.country_model as cm\n",
    "\n",
    "zambia = cm.Zambia()\n",
    "task = emod_task.EMODHIVTask.from_default(\n",
    "    eradication_path = manifest.eradication_path,\n",
    "    schema_path      = manifest.schema_file,\n",
    "    param_custom_cb  = zambia.build_config,\n",
    "    campaign_builder = zambia.build_campaign,\n",
    "    demog_builder    = zambia.build_demographics,\n",
    "    ep4_path         = None\n",
    ")"
   ]
  },
  {
   "cell_type": "markdown",
   "metadata": {},
   "source": [
    "## Singularity image\n",
    "We use a a Singularity image as a container within which EMOD will run. This container provides all of the prerequisites (i.e., installation requirements) required by EMOD.  On SLURM, you must define the path to your image file.  Note that we define this path in your manifest file."
   ]
  },
  {
   "cell_type": "code",
   "execution_count": null,
   "metadata": {},
   "outputs": [],
   "source": [
    "# !!!!!!!!!!!!!!!!!!!!!!!!!!!!!!!!!!!!!!!!!!!!!!!!!!!!!!\n",
    "# UPDATE- Select the following line given your platform\n",
    "# !!!!!!!!!!!!!!!!!!!!!!!!!!!!!!!!!!!!!!!!!!!!!!!!!!!!!!\n",
    "#task.set_sif( path_to_sif=manifest.sif_path, platform=platform ) # SLURM\n",
    "task.set_sif( path_to_sif=manifest.sif_path ) # COMPS\n"
   ]
  },
  {
   "cell_type": "markdown",
   "metadata": {},
   "source": [
    "## SimulationBuilder\n",
    "One more key element that we need for our experiment is `SimulationBuilder`. We use it to create (\"build\") the collection of simulations to include in the experiment.  The builder uses the concept of \"parameter sweeps\" to determine which simulations to create. This means that we can define sweeps of different parameters to create various combinations of parameters. The builder will create one simulation for each combination.\n",
    "\n",
    "For our first time creating a builder, we will do a simple sweep on `Run_Number`. `Run_Number` is the random number seed to help us get different statistical realizations of our scenario.\n",
    "\n",
    "First, we define a function for changing the parameter. Configuration parameters are very easy to change, but as we will see in a later tutorial, the campaign and demographics require a bit more work. It is not much, but it is different. Notice that the function returns a \"tag\" name and its corresponding value. These tags can be used to sort or query your simulations - based on the tags.\n",
    "\n",
    "Once we have this function, notice that we add it to the builder saying that it is a \"sweep definition\". In this definition, we specify our function and the list of values we want for the parameter.  We list three values, so we should end up with three simulation runs where all of the inputs are the same except for this `Run_Number` parameter."
   ]
  },
  {
   "cell_type": "code",
   "execution_count": null,
   "metadata": {},
   "outputs": [],
   "source": [
    "from idmtools.builders import SimulationBuilder\n",
    "\n",
    "def sweep_run_number( simulation, value ):\n",
    "    simulation.task.config.parameters.Run_Number = value\n",
    "    return { \"Run_Number\": value }\n",
    "\n",
    "\n",
    "builder = SimulationBuilder()\n",
    "builder.add_sweep_definition( sweep_run_number, [1,2,3] )"
   ]
  },
  {
   "cell_type": "markdown",
   "metadata": {},
   "source": [
    "## Experiment\n",
    "In EMOD vocabulary, an experiment is a collection of simulations or relaizations. Typically, a user decides that a collection of parameter sweeps belong together and defines an \"experiement\".\n",
    "\n",
    "The first thing we do is to create an experiment using our `builder` and `task`. In this collection of tutorials, we will be doing it \"from a builder\", but there are other ways to create experiments.\n",
    "\n",
    "Once we have our experiment created, we are ready to run our simulations. Our experiement object will handle everything required to run the simulations on our platform. It will perform tasks such as:\n",
    "- Submitting jobs on the platform/cluster\n",
    "- Managing the running of all the simulations\n",
    "- Retrying a simulation if it fails\n",
    "- Allowing you to relax while it is doing the work\n",
    "\n",
    "Notice that we set the `wait_until_done` parameter to `True`. This means that this Python program will wait at this line of code until all of the simulations have completed.  Therefore, the execution of that line may take several minutes."
   ]
  },
  {
   "cell_type": "code",
   "execution_count": null,
   "metadata": {},
   "outputs": [],
   "source": [
    "from idmtools.entities.experiment import Experiment\n",
    "\n",
    "experiment = Experiment.from_builder( builder, task, name=\"Tutorial_1\" )\n",
    "\n",
    "experiment.run( wait_until_done=True, platform=platform )"
   ]
  },
  {
   "cell_type": "markdown",
   "metadata": {},
   "source": [
    "## Results\n",
    "For Tutorial #1, you need to check \"experiments\" directory that that we defined when we created `Platform`. You should see a folder in there for your first experiment.  In that folder, you should see three simulation folders. In each of those folders, there should be an \"output\" folder containing a file called \"InsetChart.json\".  If you have that, you are ready to start Tutorial #2."
   ]
  },
  {
   "cell_type": "markdown",
   "metadata": {},
   "source": []
  }
 ],
 "metadata": {
  "kernelspec": {
   "display_name": "Python 3 (ipykernel)",
   "language": "python",
   "name": "python3"
  },
  "language_info": {
   "codemirror_mode": {
    "name": "ipython",
    "version": 3
   },
   "file_extension": ".py",
   "mimetype": "text/x-python",
   "name": "python",
   "nbconvert_exporter": "python",
   "pygments_lexer": "ipython3",
   "version": "3.9.10"
  }
 },
 "nbformat": 4,
 "nbformat_minor": 4
}
